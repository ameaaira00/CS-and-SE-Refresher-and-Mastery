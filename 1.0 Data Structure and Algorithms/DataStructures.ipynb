{
 "cells": [
  {
   "cell_type": "markdown",
   "metadata": {},
   "source": [
    "# Data Structures\n",
    "\n",
    "Think of your computer as a giant set of drawers🗄️, each with its own address. When you want to store an item in memory, you request space, and the computer provides you with an address for that item. \n",
    "\n",
    "For multiple items, you typically use two basic structures: arrays and linked lists."
   ]
  },
  {
   "cell_type": "markdown",
   "metadata": {},
   "source": [
    "Source/s:\n",
    "- Grokking Algorithms by Aditya Bhargava"
   ]
  },
  {
   "cell_type": "markdown",
   "metadata": {},
   "source": [
    "#### Terminologies\n",
    "- **Index**: The position of an element in a data structure.\n",
    "- **Read**: Operation to access data in a data structure.\n",
    "- **Write**: Operation to modify data in a data structure.\n",
    "- **Search**: Operation to find an element in a data structure.\n",
    "- **Update**: Operation to change an element in a data structure.\n",
    "- **Delete**: Operation to remove an element from a data structure.\n",
    "- **Insert**: Operation to add an element to a data structure.\n",
    "- **Append**: Operation to add an element to the end of a data structure."
   ]
  },
  {
   "cell_type": "markdown",
   "metadata": {},
   "source": [
    "## Access Types\n",
    "- **Random Access**: Allows direct access to any element, making reads faster than in linked lists.\n",
    "- **Sequential Access**: Reading elements one by one from the beginning to the end."
   ]
  },
  {
   "cell_type": "markdown",
   "metadata": {},
   "source": [
    "## Arrays\n",
    "An array is a collection of items stored at **contiguous** memory locations, meaning they are right next to each other. This arrangement allows easy access to elements, as you can calculate the address of any item based on its index.\n",
    "\n",
    "**Pros of Arrays**:\n",
    "- **Direct Access**: You can easily find the last item in an array. For example, if you have five items starting at address $00$, the last item is at address $04$.\n",
    "\n",
    "**Limitations**:\n",
    "- **Fixed Size**: If you want to add more elements than the allocated size, you may need to copy everything to a new location.\n",
    "- **Insertions**: Inserting an item in the middle requires shifting all subsequent elements, which can be cumbersome.\n",
    "- **Deletions**: Deleting an item involves moving all subsequent elements up to fill the gap."
   ]
  },
  {
   "cell_type": "markdown",
   "metadata": {},
   "source": [
    "## Linked Lists\n",
    "A linked list is a sequence of elements where each element points to the next, allowing for flexible memory allocation. The linked list effectively resolves the issue of wasted space seen in arrays.\n",
    "\n",
    "**Pros of Linked Lists**:\n",
    "- **Dynamic Size**: You can add as many elements as you want without worrying about the size.\n",
    "- **Insertions and Deletions**: Adding or removing elements is efficient because you only need to update the pointers of the surrounding elements.\n",
    "\n",
    "**Limitations**:\n",
    "- **Sequential Access**: You must traverse the list from the beginning to access an element, which can be time-consuming.\n",
    "- **Memory Overhead**: Each element in a linked list requires additional memory to store the pointer to the next element.\n",
    "\n",
    "**Common Practice**:\n",
    "- It’s beneficial to maintain pointers to both the first and last elements of a linked list, enabling $O(1)$ time complexity for deletion operations.\n",
    "\n",
    "### Types of Linked Lists\n",
    "1. **Singly Linked List**: Each element points to the next element.\n",
    "2. **Doubly Linked List**: Each element points to the next and previous elements.\n",
    "3. **Circular Linked List**: The last element points back to the first element."
   ]
  },
  {
   "cell_type": "markdown",
   "metadata": {},
   "source": [
    "## Hybrid Arrays and Linked Lists\n",
    "A hybrid data structure combines the benefits of both arrays and linked lists. In this structure, each item in an array can point to a linked list, allowing for dynamic sizing while still enabling efficient access. \n",
    "\n",
    "**Benefits of Hybrid Structures**:\n",
    "- **Flexible Memory Use**: You can store a varying number of elements without wasting memory.\n",
    "- **Efficient Insertions and Deletions**: You can quickly update the linked list portion for dynamic changes while using the array for faster access.\n",
    "\n",
    "Also a practical example is when we have a list of names, and we want to store them in a data structure. We can use an array to store the names and a linked list to store the names with the same starting letter.\n",
    "\n",
    "> An example of a hybrid structure is a **hash table**, where each array element points to a linked list of items.\n",
    "\n",
    "This hybrid approach is useful when you need the performance benefits of arrays but also require the flexibility of linked lists, especially when handling large datasets with unpredictable sizes."
   ]
  },
  {
   "cell_type": "markdown",
   "metadata": {},
   "source": [
    "# Key Takeaways\n",
    "- **Arrays** are useful for direct access to elements, but they have a fixed size and can be inefficient for insertions and deletions.\n",
    "- **Linked lists** are dynamic and efficient for insertions and deletions, but they require sequential access to find elements.\n",
    "- **Hybrid structures** combine the benefits of arrays and linked lists, providing flexible memory use and efficient operations.\n"
   ]
  },
  {
   "cell_type": "markdown",
   "metadata": {},
   "source": [
    "## Stack\n",
    "- A stack is a collection of elements with two main operations: **push** and **pop**.\n",
    "- **Push**: Adds an element to the top of the stack.\n",
    "- **Pop**: Removes the top element from the stack.\n",
    "\n",
    "**LIFO Principle**: Last In, First Out\n",
    "- The last element added to the stack is the first one to be removed.\n",
    "* -> [3, 2, 1] -> *\n",
    "\n",
    "**Common Uses**:\n",
    "- **Function Calls**: Storing function calls to track the order of execution.\n",
    "   - We call this the **call stack**.\n",
    "- **Undo Mechanisms**: Reversing actions by popping the last element.   \n",
    "    - For example, undoing text edits or closing windows.\n",
    "- **Expression Evaluation**: Evaluating expressions by converting them to postfix notation.\n",
    "    - For example, converting infix expressions to postfix expressions.\n",
    "    - Infix: $a + b$\n",
    "    - Postfix: $a b +$\n",
    "- **Backtracking**: Storing states to backtrack to previous decisions.\n",
    "    - For example, solving mazes or puzzles.\n",
    "\n",
    "**Implementation**:\n",
    "- You can implement a stack using arrays or linked lists.   \n",
    "    - **Arrays**: Efficient for fixed-size stacks.\n",
    "    - **Linked Lists**: Useful for dynamic-size stacks."
   ]
  },
  {
   "cell_type": "markdown",
   "metadata": {},
   "source": [
    "## Hash Table\n",
    "- A hash table is a data structure that maps keys to values.\n",
    "\n",
    "Alright let's dumb this down. I'm certain I'll forget what a hash table is in the future, so let's make it simple.\n",
    "- Say you have a drawer full of books, and you want to find a specific book.\n",
    "- If they're not organized, you'd have to search through every book to find the one you want (linear search - `O(n)`).\n",
    "- If they're organized in alphabetical order, you can quickly find the book you're looking for (binary search - `O(log n)`).\n",
    "\n",
    "We've tackled **Arrays** and **Linked Lists**. \n",
    "- We can sort the books in an array\n",
    "    - **Pros**: Direct access to any book\n",
    "    - **Cons**: Fixed size, inefficient for insertions and deletions\n",
    "- If we run binary search on the array, we can quickly find the book we're looking for at `O(log n)` time complexity.\n",
    "    - **Pros**: Efficient search\n",
    "    - **Cons**: Inefficient insertions and deletions\n",
    "> But what if we want to find it at `O(1)` time complexity?\n",
    "\n",
    "Now, let's introduce the **Hash Table**.\n",
    "- A hash table is like a drawer full of books, but each book has a unique label.\n",
    "- When you want to find a book, you look at the label and go straight to the book.\n",
    "- This way, you can find the book you're looking for in `O(1)` time complexity.\n",
    "\n",
    "That's magic! 🎩✨ How do we do that?\n",
    "\n",
    "A hash table uses a **hash function** to convert keys into indices, allowing for direct access to values.\n",
    "- It maps keys to values using a hash function.\n",
    "- It needs to be **consistent**, meaning the same key should always produce the same index.\n",
    "\n",
    "**How hash function works**:\n",
    "1. In the first time, the hash function converts the key into an index.\n",
    "2. The hash table stores the value at that index.\n",
    "3. When you want to retrieve the value, the hash function converts the key into the same index.\n",
    "4. You can then access the value at that index.\n",
    "\n",
    "The hash function knows how big the hash table is and maps keys to indices within that range. \n",
    "- it only returns valid indices within the hash table's size.\n",
    "\n",
    "> Hash tables are smarted than arrays and linked lists because they provide direct access to values with `O(1)` time complexity.\n",
    "> In worst-case scenarios, hash tables have a time complexity of `O(n)`. But compared to arrays and linked lists, hash tables are more efficient for most operations.\n",
    "\n",
    "| Operation | Hash Table (Average) | Hash Table (Worst Case) | Array | Linked List |\n",
    "| --- | --- | --- | --- | --- |\n",
    "| Search | O(1) | O(n) | O(n) | O(n) |\n",
    "| Insert | O(1) | O(n) | O(n) | O(1) |\n",
    "| Delete | O(1) | O(n) | O(n) | O(1) |\n",
    "\n",
    "Hash tables gets the best of both worlds:\n",
    "- As fast as arrays for direct access (search)\n",
    "- As fast as linked lists for insertions and deletions\n",
    "\n",
    "\n",
    "\n",
    "\n",
    "**Hash Function in Action**:\n",
    "We never have to implement a hash function from scratch. Programming languages provide built-in hash functions that we can use to create hash tables. Whew! 😅 \n",
    "But for the curious minds, here's how a hash function works:\n",
    "1. It takes a key as input.\n",
    "2. It performs some calculations on the key.\n",
    "ex. `hash('apple') = 4`\n",
    "3. It returns an index based on the calculations.\n",
    "4. The hash table stores the value at that index.\n",
    "\n",
    "Sample of hash function in Python:\n",
    "```python\n",
    "hash('apple')\n",
    "```\n",
    "\n",
    "Define sample `hash()` function:\n",
    "```python\n",
    "def hash(key):\n",
    "    return len(key) % 10\n",
    "```\n",
    "\n",
    "In this example, the hash function calculates the length of the key and returns the remainder when divided by 10. This way, the hash function maps keys to indices within the range of 0 to 9.\n",
    "\n",
    "### Collision Handling\n",
    "- A collision occurs when two keys map to the same index.\n",
    "- To resolve collisions, you can use different techniques:\n",
    "    - **Separate Chaining**: Each index stores a linked list of values.\n",
    "    - **Open Addressing**: Finding an empty slot when a collision occurs.\n",
    "    - **Linear Probing**: Searching for the next available slot.\n",
    "    - **Quadratic Probing**: Using a quadratic function to find the next slot.\n",
    "    - **Double Hashing**: Using a second hash function to find the next slot.\n",
    "\n",
    "Hash functions are essential. Ideally it would map keys evenly across the hash table to avoid collisions. \n",
    "- In Separate Chaining, if the linked list grows too long, it can slow down the hash table.\n",
    "\n",
    "\n",
    "A Hash Table has keys and values.\n",
    "- **Keys**: Unique identifiers for values.\n",
    "- **Values**: Data associated with keys.\n",
    "\n",
    "In Python, we have a built-in data structure called a **dictionary** that acts as a hash table."
   ]
  },
  {
   "cell_type": "code",
   "execution_count": 3,
   "metadata": {},
   "outputs": [
    {
     "name": "stdout",
     "output_type": "stream",
     "text": [
      "{'Bawang': 20, 'Sibuyas': 10, 'Kamatis': 15, 'Pitso': 150, 'Toyo': 25}\n"
     ]
    }
   ],
   "source": [
    "basket = dict()\n",
    "\n",
    "basket[\"Bawang\"]=20\n",
    "basket[\"Sibuyas\"]=10\n",
    "basket[\"Kamatis\"]=15\n",
    "basket[\"Pitso\"]=150\n",
    "basket[\"Toyo\"]=25\n",
    "\n",
    "print(basket)"
   ]
  },
  {
   "cell_type": "code",
   "execution_count": 6,
   "metadata": {},
   "outputs": [
    {
     "name": "stdout",
     "output_type": "stream",
     "text": [
      "The price of Bawang is Php 20\n"
     ]
    }
   ],
   "source": [
    "# We can easily ask for the value of a key\n",
    "print(\"The price of Bawang is Php\", basket[\"Bawang\"])"
   ]
  },
  {
   "cell_type": "markdown",
   "metadata": {},
   "source": [
    "#### Real-World Applications\n",
    "Mainly used in lookups and mappings:\n",
    "- **Phone Books**: Mapping names to phone numbers.\n",
    "- **Domain Name Systems (DNS)**: Mapping domain names to IP addresses.\n",
    "- **Caching**: Storing frequently accessed data for quick retrieval.\n",
    "    - To avoid recalculating the same data, we can store it in a hash table for quick access.\n",
    "    - This way, we can retrieve the data in `O(1)` time complexity.\n",
    "    - Websites remember the data instead of recalculating it every time.\n",
    "    - Makes fetching data faster and less work for the server.\n",
    "- **Voting Systems**: Mapping voters to only one vote."
   ]
  },
  {
   "cell_type": "code",
   "execution_count": 8,
   "metadata": {},
   "outputs": [
    {
     "name": "stdout",
     "output_type": "stream",
     "text": [
      "Alice has been added to the list of voters.\n",
      "Bob has been added to the list of voters.\n",
      "Alice has already voted. Cannot vote again.\n"
     ]
    }
   ],
   "source": [
    "# System to check whether a voter already voted\n",
    "\n",
    "voters = dict()\n",
    "\n",
    "# When someone votes, we add them to the list. \n",
    "# If they are already in the list, we tell them they already voted.\n",
    "# Otherwise, we add them to the list.\n",
    "\n",
    "def hasVoted(name):\n",
    "    if name in voters:\n",
    "        print(name, \"has already voted. Cannot vote again.\")\n",
    "    else:\n",
    "        voters[name] = True\n",
    "        print(name, \"has been added to the list of voters.\")\n",
    "    \n",
    "hasVoted(\"Alice\")\n",
    "hasVoted(\"Bob\")\n",
    "hasVoted(\"Alice\")\n"
   ]
  },
  {
   "cell_type": "markdown",
   "metadata": {},
   "source": [
    "##### Array vs. Hash Table\n",
    "If we are storing votes in an array, this can eventually become slow\n",
    "- If they already voted, we'll neeed to search through the list to check if they already voted.\n",
    "\n",
    "But with a hash table, we can quickly check if they already voted in `O(1)` time complexity."
   ]
  },
  {
   "cell_type": "code",
   "execution_count": 9,
   "metadata": {},
   "outputs": [
    {
     "name": "stdout",
     "output_type": "stream",
     "text": [
      "Retrieving http://www.google.com from the web.\n",
      "This is the data from the web for http://www.google.com\n",
      "Retrieving http://www.yahoo.com from the web.\n",
      "This is the data from the web for http://www.yahoo.com\n",
      "Returning http://www.google.com from cache.\n",
      "This is the data from the web for http://www.google.com\n"
     ]
    }
   ],
   "source": [
    "# Sample Caching System\n",
    "\n",
    "cache = dict()\n",
    "\n",
    "def getPage(url):\n",
    "    if url in cache:\n",
    "        print(\"Returning\", url, \"from cache.\")\n",
    "        return cache[url] # Return the cached page\n",
    "    else:\n",
    "        print(\"Retrieving\", url, \"from the web.\")\n",
    "        data = getDataFromWeb(url) # Get the data from the web\n",
    "        cache[url] = data\n",
    "        return data\n",
    "\n",
    "\n",
    "def getDataFromWeb(url):\n",
    "    # Pretend we are getting the data\n",
    "    return \"This is the data from the web for \" + url\n",
    "    \n",
    "\n",
    "print(getPage(\"http://www.google.com\"))\n",
    "print(getPage(\"http://www.yahoo.com\"))\n",
    "print(getPage(\"http://www.google.com\"))"
   ]
  },
  {
   "cell_type": "markdown",
   "metadata": {},
   "source": [
    "\n",
    "### Avoiding Collisions\n",
    "To avoid collisions, you need\n",
    "- A low load factor\n",
    "- A good hash function\n",
    "\n",
    "#### Load factor\n",
    "Load factor = $<Number of items in Hash Table> / <Total number of slots in Hash Table>$\n",
    "- This measures how many empty slots are available in the hash table.\n",
    "- A low load factor means fewer collisions and faster operations.\n",
    "- Having a load factor of more than 1 means there are more items than slots in the hash table. You may need to **resize** the hash table to accommodate more items.\n",
    "\n",
    "**Resizing the Hash Table**:\n",
    "- When the load factor exceeds a certain threshold, you can resize the hash table to accommodate more items.\n",
    "1. Create a new hash table with more slots.\n",
    "   - Rule of thumb: Double the number of slots.\n",
    "2. Rehash all items from the old hash table to the new hash table.\n",
    "\n",
    "#### Good Hash Function\n",
    "A good hash function distributes values evenly across the hash table, reducing the likelihood of collisions.\n",
    "- A bad hash function may map all keys to the same index, causing many collisions.\n",
    "\n",
    "Now, we use **SHA** (Secure Hash Algorithm) for secure hashing. It's a cryptographic hash function that generates a fixed-size hash value from input data of any size.\n",
    "- It's used in security protocols, digital signatures, and blockchain technology.\n",
    "- We can also use this as a hash function for hash tables."
   ]
  },
  {
   "cell_type": "markdown",
   "metadata": {},
   "source": [
    "### Section Key Takeaways\n",
    "- **Hash tables** provide direct access to values with `O(1)` time complexity.\n",
    "- They use a **hash function** to map keys to indices within a range.\n",
    "- **Collision handling** techniques that resolve conflicts include separate chaining and open addressing.\n",
    "- **Separate chaining** involves storing a linked list of values at each index.\n",
    "- **Open addressing** involves finding an empty slot when a collision occurs.\n",
    "- **Hashes** are good for lookups and mappings, such as phone books, DNS, and caching.\n",
    "    - ...filtering out duplicate\n",
    "    - ...caching data to avoid recalculating \n",
    "- **Load factor** measures how many empty slots are available in the hash table.\n",
    "- **Resizing** the hash table involves creating a new hash table with more slots and rehashing all items.\n",
    "- **Good hash functions** distribute values evenly across the hash table, reducing collisions.\n",
    "- You'll almost never have to implement a hash function from scratch, as most programming languages provide built-in hash functions.\n",
    "- Hash table = Hash function + Array\n",
    "- Load factor greater than 0.7 means you should resize the hash table."
   ]
  },
  {
   "cell_type": "markdown",
   "metadata": {},
   "source": [
    "# Sample "
   ]
  },
  {
   "cell_type": "markdown",
   "metadata": {},
   "source": []
  }
 ],
 "metadata": {
  "kernelspec": {
   "display_name": "Python 3",
   "language": "python",
   "name": "python3"
  },
  "language_info": {
   "codemirror_mode": {
    "name": "ipython",
    "version": 3
   },
   "file_extension": ".py",
   "mimetype": "text/x-python",
   "name": "python",
   "nbconvert_exporter": "python",
   "pygments_lexer": "ipython3",
   "version": "3.10.6"
  }
 },
 "nbformat": 4,
 "nbformat_minor": 2
}
