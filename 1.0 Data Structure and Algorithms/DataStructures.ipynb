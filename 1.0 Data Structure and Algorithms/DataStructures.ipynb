{
 "cells": [
  {
   "cell_type": "markdown",
   "metadata": {},
   "source": [
    "# Data Structures\n",
    "\n",
    "Think of your computer as a giant set of drawers🗄️, each with its own address. When you want to store an item in memory, you request space, and the computer provides you with an address for that item. \n",
    "\n",
    "For multiple items, you typically use two basic structures: arrays and linked lists."
   ]
  },
  {
   "cell_type": "markdown",
   "metadata": {},
   "source": [
    "Source/s:\n",
    "- Grokking Algorithms by Aditya Bhargava"
   ]
  },
  {
   "cell_type": "markdown",
   "metadata": {},
   "source": [
    "#### Terminologies\n",
    "- **Index**: The position of an element in a data structure.\n",
    "- **Read**: Operation to access data in a data structure.\n",
    "- **Write**: Operation to modify data in a data structure.\n",
    "- **Search**: Operation to find an element in a data structure.\n",
    "- **Update**: Operation to change an element in a data structure.\n",
    "- **Delete**: Operation to remove an element from a data structure.\n",
    "- **Insert**: Operation to add an element to a data structure.\n",
    "- **Append**: Operation to add an element to the end of a data structure."
   ]
  },
  {
   "cell_type": "markdown",
   "metadata": {},
   "source": [
    "## Access Types\n",
    "- **Random Access**: Allows direct access to any element, making reads faster than in linked lists.\n",
    "- **Sequential Access**: Reading elements one by one from the beginning to the end."
   ]
  },
  {
   "cell_type": "markdown",
   "metadata": {},
   "source": [
    "## Arrays\n",
    "An array is a collection of items stored at **contiguous** memory locations, meaning they are right next to each other. This arrangement allows easy access to elements, as you can calculate the address of any item based on its index.\n",
    "\n",
    "**Pros of Arrays**:\n",
    "- **Direct Access**: You can easily find the last item in an array. For example, if you have five items starting at address $00$, the last item is at address $04$.\n",
    "\n",
    "**Limitations**:\n",
    "- **Fixed Size**: If you want to add more elements than the allocated size, you may need to copy everything to a new location.\n",
    "- **Insertions**: Inserting an item in the middle requires shifting all subsequent elements, which can be cumbersome.\n",
    "- **Deletions**: Deleting an item involves moving all subsequent elements up to fill the gap."
   ]
  },
  {
   "cell_type": "markdown",
   "metadata": {},
   "source": [
    "## Linked Lists\n",
    "A linked list is a sequence of elements where each element points to the next, allowing for flexible memory allocation. The linked list effectively resolves the issue of wasted space seen in arrays.\n",
    "\n",
    "**Pros of Linked Lists**:\n",
    "- **Dynamic Size**: You can add as many elements as you want without worrying about the size.\n",
    "- **Insertions and Deletions**: Adding or removing elements is efficient because you only need to update the pointers of the surrounding elements.\n",
    "\n",
    "**Limitations**:\n",
    "- **Sequential Access**: You must traverse the list from the beginning to access an element, which can be time-consuming.\n",
    "- **Memory Overhead**: Each element in a linked list requires additional memory to store the pointer to the next element.\n",
    "\n",
    "**Common Practice**:\n",
    "- It’s beneficial to maintain pointers to both the first and last elements of a linked list, enabling $O(1)$ time complexity for deletion operations.\n",
    "\n",
    "### Types of Linked Lists\n",
    "1. **Singly Linked List**: Each element points to the next element.\n",
    "2. **Doubly Linked List**: Each element points to the next and previous elements.\n",
    "3. **Circular Linked List**: The last element points back to the first element."
   ]
  },
  {
   "cell_type": "markdown",
   "metadata": {},
   "source": [
    "## Hybrid Arrays and Linked Lists\n",
    "A hybrid data structure combines the benefits of both arrays and linked lists. In this structure, each item in an array can point to a linked list, allowing for dynamic sizing while still enabling efficient access. \n",
    "\n",
    "**Benefits of Hybrid Structures**:\n",
    "- **Flexible Memory Use**: You can store a varying number of elements without wasting memory.\n",
    "- **Efficient Insertions and Deletions**: You can quickly update the linked list portion for dynamic changes while using the array for faster access.\n",
    "\n",
    "Also a practical example is when we have a list of names, and we want to store them in a data structure. We can use an array to store the names and a linked list to store the names with the same starting letter.\n",
    "\n",
    "> An example of a hybrid structure is a **hash table**, where each array element points to a linked list of items.\n",
    "\n",
    "This hybrid approach is useful when you need the performance benefits of arrays but also require the flexibility of linked lists, especially when handling large datasets with unpredictable sizes."
   ]
  },
  {
   "cell_type": "markdown",
   "metadata": {},
   "source": [
    "# Key Takeaways\n",
    "- **Arrays** are useful for direct access to elements, but they have a fixed size and can be inefficient for insertions and deletions.\n",
    "- **Linked lists** are dynamic and efficient for insertions and deletions, but they require sequential access to find elements.\n",
    "- **Hybrid structures** combine the benefits of arrays and linked lists, providing flexible memory use and efficient operations.\n"
   ]
  }
 ],
 "metadata": {
  "language_info": {
   "name": "python"
  }
 },
 "nbformat": 4,
 "nbformat_minor": 2
}
