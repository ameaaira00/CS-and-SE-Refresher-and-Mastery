{
 "cells": [
  {
   "cell_type": "markdown",
   "metadata": {},
   "source": [
    "# Dijktra's Algorithm\n",
    "\n",
    "## Breadth First Search vs Dijkstra's Algorithm\n",
    "- BFS looks for the shortest path in terms of the **number of edges** \n",
    "    - Used for **unweighted graphs**\n",
    "- Dijkstra's Algorithm looks for the shortest path in terms of the **sum of weights of edges**\n",
    "    - Used for **weighted graphs**\n",
    "\n",
    "## Weighted Graph\n",
    "- A graph in which each edge has a weight\n",
    "- **Weight** is a number that represents the cost of moving from one node to another.\n",
    "\n",
    "## Cycle\n",
    "- A cycle is a path that starts and ends at the same node\n",
    "- Cycles can cause problems in BFS algorithms because they can cause the algorithm to **run indefinitely**\n",
    "- Cycle adds more weight to the path\n",
    "\n",
    "IMPORTANT: Dijkstra's Algorithm only works for **directed acyclic graphs (DAGs)**\n",
    "- A directed acyclic graph is a graph that has no cycles\n",
    "\n",
    "## Dijkstra's Algorithm\n",
    "- Dijkstra's Algorithm is a BFS algorithm that uses a priority queue to find the shortest path in a weighted graph\n",
    "- It is used to find the shortest path from a source node to all other nodes in the graph\n",
    "\n",
    "## Steps\n",
    "1. Create a priority queue `pq` and add the source node to it\n",
    "2. Create a distance array `dist` and initialize it with **infinity** as we haven't reached any node yet\n",
    "3. Set the distance of the source node to 0\n",
    "4. While the priority queue is not empty:\n",
    "    - Pop the cheapest node `u` from the priority queue. This is the node that has the smallest distance from the source node\n",
    "    - For each neighbor `v` of node `u`:\n",
    "        - If the distance of node `v` is greater than the distance of node `u` plus the weight of the edge between `u` and `v`:\n",
    "            - When you find a shorter path to a node, you update the distance of that node\n",
    "            - Update the distance of node `v` to the distance of node `u` plus the weight of the edge between `u` and `v`\n",
    "            - Add node `v` to the priority queue\n",
    "5. Return the distance array `dist`\n",
    "\n"
   ]
  }
 ],
 "metadata": {
  "language_info": {
   "name": "python"
  }
 },
 "nbformat": 4,
 "nbformat_minor": 2
}
