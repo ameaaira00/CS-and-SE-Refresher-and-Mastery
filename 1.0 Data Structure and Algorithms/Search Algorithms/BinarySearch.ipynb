{
 "cells": [
  {
   "cell_type": "markdown",
   "metadata": {},
   "source": [
    "# Binary Search\n",
    "*Start in the middle. Too high. Too low. Gotcha!*\n",
    "\n",
    "Binary search is a classic algorithm that takes in a sorted array and a target value and returns the index of the target value in the array. If the target value is not in the array, it returns $-1$ or $null$.\n",
    "\n",
    "## Why Sorted Array?\n",
    "Binary search only works on sorted arrays. It relies on the order of the elements to efficiently narrow down the search range\n",
    "\n",
    "It uses **Divide and Conquer** strategy to reduce the search range by half with each guess.\n",
    "\n",
    "If the array is not sorted, you have to sort it first. Hence, for unsorted arrays, the time complexity of binary search is $O(n \\log n)$.\n",
    "\n",
    "\n",
    "\n",
    "## Binary Search Vs Linear/Simple/Stupid Search\n",
    "Simple search \n",
    "- Time complexity:\n",
    "\n",
    "| Best | Average | Worst |\n",
    "|------|---------|-------|\n",
    "| O(1) | O(n)    | O(n)  |\n",
    "\n",
    "- With each guess, you eliminate only one possibility.\n",
    "- 100 elements: 100 guesses\n",
    "\n",
    "Binary search\n",
    "- Time complexity:\n",
    "\n",
    "| Best | Average | Worst |\n",
    "|------|---------|-------|\n",
    "| O(1) | O(log n)| O(log n)|\n",
    "- With each guess, you eliminate half of the remaining possibilities.\n",
    "- 100 elements: 7 guesses\n",
    "\n",
    "> Recall that Logarithms are the inverse of exponentiation. For example, \n",
    "```python\n",
    "10^2 = 100\n",
    "\n",
    "log10(100) = 2\n",
    "```\n",
    "\n",
    "Here $log n$ means $log_2 n$."
   ]
  },
  {
   "cell_type": "markdown",
   "metadata": {},
   "source": [
    "## Binary Search Algorithm Implementations"
   ]
  },
  {
   "cell_type": "code",
   "execution_count": 6,
   "metadata": {},
   "outputs": [
    {
     "name": "stdout",
     "output_type": "stream",
     "text": [
      "Using Iterative Binary Search\n",
      "The target is at index:  3\n"
     ]
    }
   ],
   "source": [
    "# Iterative Binary Search\n",
    "\n",
    "# Implementation I know\n",
    "def binary_search(arr, target):\n",
    "    start = 0 # Zero-based index\n",
    "    end = len(arr) - 1\n",
    "\n",
    "    # Iterate while we haven't narrowed down the search to one element\n",
    "    while start <= end: \n",
    "        # Get the middle index\n",
    "        mid = (start + end) // 2 # The // means floor division. It returns the whole number value of the division\n",
    "\n",
    "        if arr[mid] == target:\n",
    "            # If the target is in the middle of the current array, return the index\n",
    "            return mid\n",
    "        elif arr[mid] > target:\n",
    "            # If the target is less than the middle, search the left half. Set the end to mid - 1\n",
    "            end = mid - 1\n",
    "        else:\n",
    "            # If the target is greater than the middle, search the right half. Set the start to mid + 1\n",
    "            start = mid + 1\n",
    "\n",
    "    # If the target is not found, return -1\n",
    "    return -1\n",
    "\n",
    "array  = [ 112, 145, 167, 200, 250, 300, 350, 400, 450, 500, 550, 600, 650, 700, 750, 800 ]\n",
    "target = 200\n",
    "\n",
    "print(\"Using Iterative Binary Search\")\n",
    "print(\"The target is at index: \", binary_search(array, target))"
   ]
  },
  {
   "cell_type": "code",
   "execution_count": 7,
   "metadata": {},
   "outputs": [
    {
     "name": "stdout",
     "output_type": "stream",
     "text": [
      "Using Recursive Binary Search\n",
      "The target is at index:  3\n"
     ]
    }
   ],
   "source": [
    "# Recursive Binary Search\n",
    "\n",
    "def binary_search_recursive(arr, target, start, end):\n",
    "    # Base case\n",
    "    if start > end:\n",
    "        return -1\n",
    "    \n",
    "    # Start from the middle\n",
    "    mid = (start + end) // 2\n",
    "\n",
    "    if arr[mid] == target:\n",
    "        return mid\n",
    "    elif arr[mid] > target:\n",
    "        ## Search the left half if the target is less than the middle\n",
    "        return binary_search_recursive(arr, target, start, mid - 1)\n",
    "    else:\n",
    "        ## Search the right half if the target is greater than the middle\n",
    "        return binary_search_recursive(arr, target, mid + 1, end)\n",
    "    \n",
    "\n",
    "array  = [ 112, 145, 167, 200, 250, 300, 350, 400, 450, 500, 550, 600, 650, 700, 750, 800 ]\n",
    "target = 200\n",
    "\n",
    "\n",
    "print(\"Using Recursive Binary Search\")\n",
    "print(\"The target is at index: \", binary_search_recursive(array, target, 0, len(array) - 1))"
   ]
  },
  {
   "cell_type": "markdown",
   "metadata": {},
   "source": [
    "## EXERCISES\n",
    "1.1 Suppose you have a sorted list of 128 names, and you’re searching through it using binary search. What’s the maximum number of steps it would take?\n",
    "\n",
    "$log_2 128 = 7$ steps\n",
    "\n",
    "1.2 Suppose you double the size of the list. What’s the maximum number of steps now?\n",
    "\n",
    "original list size = 128\n",
    "double the size = 128 * 2 = 256\n",
    "\n",
    "$log_2 256 = 8$ steps"
   ]
  }
 ],
 "metadata": {
  "kernelspec": {
   "display_name": "Python 3",
   "language": "python",
   "name": "python3"
  },
  "language_info": {
   "codemirror_mode": {
    "name": "ipython",
    "version": 3
   },
   "file_extension": ".py",
   "mimetype": "text/x-python",
   "name": "python",
   "nbconvert_exporter": "python",
   "pygments_lexer": "ipython3",
   "version": "3.10.6"
  }
 },
 "nbformat": 4,
 "nbformat_minor": 2
}
