{
 "cells": [
  {
   "cell_type": "markdown",
   "metadata": {},
   "source": [
    "# Breadth-First Search\n",
    "\n",
    "- Algorithm for traversing or searching tree or graph data structures.\n",
    "- Starts at the tree root and explores all neighbor nodes\n",
    "- Explores all nodes at the present depth before moving on to the next depth level.\n",
    "- **Breath** means it explores all nodes at the present depth before moving on to the next depth level.\n",
    "\n",
    "# Approach\n",
    "One approach is to use BFS to find the shortest path from the start to the end.\n",
    "1. Model the problem as a [graph](<../DataStructures.ipynb>).\n",
    "2. Use BFS to find the shortest path from the start to the end.\n",
    "\n",
    "\n",
    "### Complexity\n",
    "- Time complexity is $O(V+E)$ where V is the number of vertices and E is the number of edges in the graph.\n",
    "- Space complexity is $O(V)$ where V is the number of vertices in the graph.\n",
    "\n",
    "\n",
    "### Questions it answers\n",
    "1. Is there a path from node A to node B?\n",
    "2. What is the shortest path from node A to node B?"
   ]
  },
  {
   "cell_type": "markdown",
   "metadata": {},
   "source": [
    "### Is there a path from node A to node B?\n",
    "- If the BFS algorithm reaches node B, then there is a path from node A to node B.\n",
    "- Otherwise, there is no path from node A to node B.\n",
    "\n",
    "Sample problem: \n",
    "You need to find a Mango seller in your Facebook network. \n",
    "\n",
    "- You start with your friends and check if they are Mango sellers.\n",
    "- If they are not Mango sellers, you check their friends."
   ]
  },
  {
   "cell_type": "code",
   "execution_count": 24,
   "metadata": {},
   "outputs": [],
   "source": [
    "# Create network of friends from a list of friends. Make one of them the mango seller. THe Person object is {Name, Friends, isMangoSeller}. Limit to only 2 levels of friends.\n",
    "\n",
    "from collections import deque\n",
    "\n",
    "class Person:\n",
    "    def __init__(self, name, friends, isMangoSeller, isPokemonTrainer=False):\n",
    "        self.name = name\n",
    "        self.friends = friends\n",
    "        self.isMangoSeller = isMangoSeller\n",
    "        self.isPokemonTrainer = isPokemonTrainer"
   ]
  },
  {
   "cell_type": "code",
   "execution_count": 25,
   "metadata": {},
   "outputs": [
    {
     "data": {
      "image/png": "[encoded data removed]",
      "text/plain": [
       "<Figure size 640x480 with 1 Axes>"
      ]
     },
     "metadata": {},
     "output_type": "display_data"
    }
   ],
   "source": [
    "import networkx as nx\n",
    "import matplotlib.pyplot as plt\n",
    "\n",
    "# Create the graph\n",
    "you = Person(\"You\", [\"Alice\", \"Bob\", \"Claire\"], False)\n",
    "bob = Person(\"Bob\", [], False)\n",
    "alice = Person(\"Alice\", [\"Anuj\"], False)\n",
    "claire = Person(\"Claire\", [\"Anuj\", \"Peggy\"], False)\n",
    "anuj = Person(\"Anuj\", [], False)\n",
    "peggy = Person(\"Peggy\", [], True)\n",
    "\n",
    "graph = {\n",
    "    \"You\": you,\n",
    "    \"Bob\": bob,\n",
    "    \"Alice\": alice,\n",
    "    \"Claire\": claire,\n",
    "    \"Anuj\": anuj,\n",
    "    \"Peggy\": peggy\n",
    "}\n",
    "\n",
    "G = nx.Graph()\n",
    "\n",
    "\n",
    "for person in graph:\n",
    "    G.add_node(person)\n",
    "    for friend in graph[person].friends:\n",
    "        G.add_edge(person, friend)\n",
    "\n",
    "# Draw the graph\n",
    "nx.draw(G, with_labels=True)\n",
    "plt.show()\n"
   ]
  },
  {
   "cell_type": "code",
   "execution_count": 26,
   "metadata": {},
   "outputs": [
    {
     "name": "stdout",
     "output_type": "stream",
     "text": [
      "Searching for mango seller among You's network: deque(['Alice', 'Bob', 'Claire'])\n",
      "Adding Alice's friends to the search queue: ['Anuj']\n",
      "Searching for mango seller among You's network: deque(['Bob', 'Claire', 'Anuj'])\n",
      "Adding Bob's friends to the search queue: []\n",
      "Searching for mango seller among You's network: deque(['Claire', 'Anuj'])\n",
      "Adding Claire's friends to the search queue: ['Anuj', 'Peggy']\n",
      "Searching for mango seller among You's network: deque(['Anuj', 'Anuj', 'Peggy'])\n",
      "Adding Anuj's friends to the search queue: []\n",
      "Searching for mango seller among You's network: deque(['Anuj', 'Peggy'])\n",
      "Searching for mango seller among You's network: deque(['Peggy'])\n",
      "Peggy is a mango seller!\n"
     ]
    },
    {
     "data": {
      "text/plain": [
       "True"
      ]
     },
     "execution_count": 26,
     "metadata": {},
     "output_type": "execute_result"
    }
   ],
   "source": [
    "\n",
    "\n",
    "def search(name, graph):\n",
    "    \"\"\"Search for the mango seller among the friends of the person\"\"\"\n",
    "    search_queue = deque()\n",
    "\n",
    "    # Get the friends of the person\n",
    "    search_queue += graph[name].friends\n",
    "    # Keep track of the people already searched\n",
    "    searched = []\n",
    "\n",
    "    while search_queue:\n",
    "        print(f\"Searching for mango seller among {name}'s network: {search_queue}\")\n",
    "\n",
    "        person = search_queue.popleft()\n",
    "        # Check if the person is the mango seller\n",
    "        if person not in searched:\n",
    "            if graph[person].isMangoSeller:\n",
    "                print(f\"{person} is a mango seller!\")\n",
    "                return True\n",
    "            else:\n",
    "                # Add the friends of the person to the search queue\n",
    "                search_queue += graph[person].friends\n",
    "                print(f\"Adding {person}'s friends to the search queue: {graph[person].friends}\")\n",
    "                searched.append(person)\n",
    "                \n",
    "    \n",
    "\n",
    "search(\"You\", graph)\n",
    "\n"
   ]
  },
  {
   "cell_type": "markdown",
   "metadata": {},
   "source": [
    "With this algorithm, you'll go over all your friends and their friends until you find a Mango seller."
   ]
  },
  {
   "cell_type": "markdown",
   "metadata": {},
   "source": [
    "### Shortest Path\n",
    "- The shortest path is the path with the fewest edges.\n",
    "- The shortest path is not necessarily the path with the shortest distance.\n",
    "\n",
    "In BFS, we prefer to visit nodes in the order of their distance from the start node. This way, we can find the shortest path from the start node to any other node.\n",
    "\n",
    "### Queue\n",
    "We use a queue to keep track of the nodes to visit next. \n",
    "- We start by adding the start node to the queue.\n",
    "- We then remove the first node from the queue and visit its neighbors.\n",
    "- We add the neighbors to the queue.\n",
    "- We repeat this process until we find the end node or the queue is empty.\n",
    "\n",
    "See more about [Queue](<../DataStructures.ipynb>) here.\n"
   ]
  },
  {
   "cell_type": "markdown",
   "metadata": {},
   "source": [
    "### Implementation\n",
    "1. Keep a Queue to keep track of the nodes to visit next.\n",
    "2. Pop off a node from the queue.\n",
    "3. Check if the node is the end node.\n",
    "4. If it is, return the path.\n",
    "5. If it is not, add its neighbors to the queue.\n",
    "6. Repeat steps 2-5 until the queue is empty.\n",
    "7. To avoid visiting the same node twice, keep track of the visited nodes."
   ]
  },
  {
   "cell_type": "code",
   "execution_count": 27,
   "metadata": {},
   "outputs": [
    {
     "name": "stdout",
     "output_type": "stream",
     "text": [
      "Searching for pokemon trainer among You's network: deque(['Ash', 'Misty', 'Brock'])\n",
      "Adding Ash's friends to the search queue: ['Misty', 'Brock']\n",
      "Searching for pokemon trainer among You's network: deque(['Misty', 'Brock', 'Misty', 'Brock'])\n",
      "Misty is a pokemon trainer!\n"
     ]
    },
    {
     "data": {
      "text/plain": [
       "True"
      ]
     },
     "execution_count": 27,
     "metadata": {},
     "output_type": "execute_result"
    }
   ],
   "source": [
    "## Sample BFS using queue. This time let's check if a person is a pokemon trainer\n",
    "\n",
    "# Create the graph\n",
    "Ash = Person(\"Ash\", [\"Misty\", \"Brock\"], False, False)\n",
    "Misty = Person(\"Misty\", [], False, True)\n",
    "Brock = Person(\"Brock\", [\"Misty\"], False, False)\n",
    "You = Person(\"You\", [\"Ash\", \"Misty\", \"Brock\"], False, False)\n",
    "\n",
    "graph = {\n",
    "    \"Ash\": Ash,\n",
    "    \"Misty\": Misty,\n",
    "    \"Brock\": Brock,\n",
    "    \"You\": You\n",
    "}\n",
    "\n",
    "def isPokemonTrainer(name, graph):\n",
    "    \"\"\"Check if a person is a pokemon trainer\"\"\"\n",
    "    search_queue = deque()\n",
    "\n",
    "    # Keep a Queue containing people to search\n",
    "    search_queue += graph[name].friends\n",
    "\n",
    "    # Keep track of the people already searched\n",
    "    searched = []\n",
    "\n",
    "    while search_queue:\n",
    "        print(f\"Searching for pokemon trainer among {name}'s network: {search_queue}\")\n",
    "\n",
    "        # Pop off a person from the queue\n",
    "        person = search_queue.popleft()\n",
    "\n",
    "        # Check if the person is a pokemon trainer\n",
    "        if person not in searched:\n",
    "            if graph[person].isPokemonTrainer:\n",
    "                print(f\"{person} is a pokemon trainer!\")\n",
    "                return True\n",
    "            else:\n",
    "                # Add the friends of the person to the search queue\n",
    "                search_queue += graph[person].friends\n",
    "                print(f\"Adding {person}'s friends to the search queue: {graph[person].friends}\")\n",
    "                searched.append(person)\n",
    "\n",
    "isPokemonTrainer(\"You\", graph)\n"
   ]
  },
  {
   "cell_type": "markdown",
   "metadata": {},
   "source": [
    "## Topological Sort\n",
    "- Topological sort is a way to order the vertices in a directed graph such that for every directed edge $uv$ from vertex $u$ to vertex $v$, $u$ comes before $v in the ordering.\n",
    "- Topological sort is only possible in a Directed Acyclic Graph (DAG).\n",
    "- When a node depends on another node, the dependent node comes after the node it depends on.\n",
    "\n",
    "### Applications\n",
    "- Scheduling tasks\n",
    "- Data processing\n",
    "- Pre-requisite problems\n"
   ]
  },
  {
   "cell_type": "markdown",
   "metadata": {},
   "source": [
    "## Tree\n",
    "- In a tree, there is only one path between any two nodes.\n",
    "- There is no cycle.\n",
    "- No edges ever point back to a node."
   ]
  },
  {
   "cell_type": "markdown",
   "metadata": {},
   "source": [
    "# Section Key Takeaways\n",
    "- BFS is an algorithm for traversing or searching tree or graph data structures.\n",
    "- BFS starts at the tree root and explores all neighbor nodes.\n",
    "- It explores all nodes at the present depth before moving on to the next depth level.\n",
    "- It can be used to find the shortest path from the start to the end.\n",
    "- The shortest path is the path with the fewest edges.\n",
    "- The shortest path is not necessarily the path with the shortest distance.\n",
    "- BFS uses a queue to keep track of the nodes to visit next.\n",
    "- Topological sort dumbed down is a way to order the vertices in a directed graph such that for every directed edge $uv$ from vertex $u$ to vertex $v$, $u$ comes before $v in the ordering.\n",
    "- Topological sort is only possible in a Directed Acyclic Graph (DAG).\n",
    "- In a tree, there is only one path between any two nodes.\n",
    "- There is no cycle in a tree.\n",
    "- To avoid visiting the same node twice, keep track of the visited nodes.\n"
   ]
  }
 ],
 "metadata": {
  "kernelspec": {
   "display_name": "Python 3",
   "language": "python",
   "name": "python3"
  },
  "language_info": {
   "codemirror_mode": {
    "name": "ipython",
    "version": 3
   },
   "file_extension": ".py",
   "mimetype": "text/x-python",
   "name": "python",
   "nbconvert_exporter": "python",
   "pygments_lexer": "ipython3",
   "version": "3.10.6"
  }
 },
 "nbformat": 4,
 "nbformat_minor": 2
}
