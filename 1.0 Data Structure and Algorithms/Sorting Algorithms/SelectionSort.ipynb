{
 "cells": [
  {
   "cell_type": "markdown",
   "metadata": {},
   "source": [
    "## Selection Sort\n",
    "\n",
    "Selection sort is a basic way to sort a list by **repeatedly finding the smallest item and moving it to the correct position.**\n",
    "\n",
    "### How it works:\n",
    "1. You start with two parts in the list: \n",
    "   - One part is **sorted** (starts empty).\n",
    "   - The other part is **unsorted**.\n",
    "   \n",
    "2. Find the **smallest item** in the unsorted part.\n",
    "\n",
    "3. Swap that smallest item with the first item of the unsorted part, moving it to the sorted part.\n",
    "\n",
    "4. Keep repeating this process: find the next smallest item, swap it, and grow the sorted part of the list until the entire list is sorted.\n",
    "\n",
    "### Key Idea:\n",
    "- You're always moving the smallest item to the front until the whole list is sorted.\n",
    "\n"
   ]
  },
  {
   "cell_type": "markdown",
   "metadata": {},
   "source": [
    "### Time Complexity: $O(n²)$\n",
    "\n",
    "1. **Outer Loop**: You go through the list once for each item to find the smallest. This takes **n** steps for a list with $n$ items.\n",
    "\n",
    "2. **Inner Loop**: For each item, you compare it with the rest of the list to find the smallest one. On the first pass, you make about $n$ comparisons, then $n-1$, $n-2$, and so on.\n",
    "\n",
    "#### Why is it O(n²)?\n",
    "- You’re doing $n$ comparisons for each of the **n** items.\n",
    "- This results in about $n × n = n^2$ operations, or $O(n²)$.\n",
    "\n",
    "#### What About Constants?\n",
    "Even though fewer elements are compared as the list gets sorted, Big O notation ignores constants and focuses on the overall growth. So the time complexity is still $O(n²)$, even though the number of comparisons decreases slightly as sorting progresses.\n",
    "\n",
    "Computation:\n",
    "- $n$ comparisons for the first item.\n",
    "- $n-1$ comparisons for the second item.\n",
    "- and so on.\n",
    "- $1$ comparison for the last item.\n",
    "\n",
    "The total number of comparisons is:\n",
    "- $n + (n-1) + (n-2) + ... + 1$.\n",
    "- This is the sum of the first $n$ integers.\n",
    "- The sum of the first $n$ integers is $n(n+1)/2$.\n",
    "- So, the total number of comparisons is $n(n+1)/2$.\n",
    "- To be precise, it's $O(n^2 + n)/2$.\n",
    "- But, we ignore the lower order term and the constant factor, so the time complexity is $O(n^2)$.\n",
    "\n",
    "Because of this, **Selection Sort** is slow for large lists."
   ]
  },
  {
   "cell_type": "markdown",
   "metadata": {},
   "source": [
    "### Space Complexity: $O(1)$\n",
    "- Selection Sort is an **in-place** sorting algorithm.\n",
    "- It doesn't require any extra space, so the space complexity is $O(1)$."
   ]
  },
  {
   "cell_type": "markdown",
   "metadata": {},
   "source": [
    "## Selection Sort Algorithm Implementations"
   ]
  },
  {
   "cell_type": "code",
   "execution_count": 17,
   "metadata": {},
   "outputs": [
    {
     "name": "stdout",
     "output_type": "stream",
     "text": [
      "Iterative Selection Sort\n",
      "Original array: [64, 25, 12, 22, 11]\n",
      "\n",
      "Before iteration 1: [64, 25, 12, 22, 11] where 64 is the current element\n",
      "After iteration 1: [11, 25, 12, 22, 64] where 11 is the smallest element\n",
      "\n",
      "Before iteration 2: [11, 25, 12, 22, 64] where 25 is the current element\n",
      "After iteration 2: [11, 12, 25, 22, 64] where 12 is the smallest element\n",
      "\n",
      "Before iteration 3: [11, 12, 25, 22, 64] where 25 is the current element\n",
      "After iteration 3: [11, 12, 22, 25, 64] where 22 is the smallest element\n",
      "\n",
      "Before iteration 4: [11, 12, 22, 25, 64] where 25 is the current element\n",
      "After iteration 4: [11, 12, 22, 25, 64] where 25 is the smallest element\n",
      "\n",
      "Before iteration 5: [11, 12, 22, 25, 64] where 64 is the current element\n",
      "After iteration 5: [11, 12, 22, 25, 64] where 64 is the smallest element\n",
      "\n",
      "Final sorted array: [11, 12, 22, 25, 64]\n"
     ]
    }
   ],
   "source": [
    "# Iterative Selection Sort with array state printing\n",
    "\n",
    "def selection_sort(arr):\n",
    "    # Loop through each element in the array\n",
    "    for i in range(len(arr)):\n",
    "        print(f\"\\nBefore iteration {i+1}: {arr} where {arr[i]} is the current element\")\n",
    "        # Assume the current element (arr[i]) is the smallest in the unsorted portion\n",
    "        smallest = i\n",
    "\n",
    "        # Search the rest of the unsorted portion to find the actual smallest element\n",
    "        for j in range(i + 1, len(arr)):\n",
    "            if arr[j] < arr[smallest]:  # If a smaller element is found, update the index of the smallest element\n",
    "                smallest = j\n",
    "\n",
    "        # Swap the smallest found element with the current element (arr[i])\n",
    "        arr[i], arr[smallest] = arr[smallest], arr[i]\n",
    "\n",
    "        # Print the array state after each outer loop iteration\n",
    "        print(f\"After iteration {i+1}: {arr} where {arr[i]} is the smallest element\")\n",
    "\n",
    "    # Return the sorted array\n",
    "    return arr\n",
    "\n",
    "# Example usage:\n",
    "print(\"Iterative Selection Sort\")\n",
    "arr = [64, 25, 12, 22, 11]\n",
    "print(\"Original array:\", arr)\n",
    "sorted_arr = selection_sort(arr)\n",
    "print(\"\\nFinal sorted array:\", sorted_arr)"
   ]
  },
  {
   "cell_type": "code",
   "execution_count": 18,
   "metadata": {},
   "outputs": [
    {
     "name": "stdout",
     "output_type": "stream",
     "text": [
      "\n",
      "Recursive Selection Sort\n",
      "Original array: [64, 25, 12, 22, 11]\n",
      "\n",
      "Checking the unsorted section of array: [64, 25, 12, 22, 11]. Current minimum element: 64\n",
      "After iteration 1: [11, 25, 12, 22, 64] where 11 is the smallest element\n",
      "\n",
      "Checking the unsorted section of array: [25, 12, 22, 64]. Current minimum element: 25\n",
      "After iteration 2: [11, 12, 25, 22, 64] where 12 is the smallest element\n",
      "\n",
      "Checking the unsorted section of array: [25, 22, 64]. Current minimum element: 25\n",
      "After iteration 3: [11, 12, 22, 25, 64] where 22 is the smallest element\n",
      "\n",
      "Checking the unsorted section of array: [25, 64]. Current minimum element: 25\n",
      "After iteration 4: [11, 12, 22, 25, 64] where 25 is the smallest element\n",
      "\n",
      "Checking the unsorted section of array: [64]. Current minimum element: 64\n",
      "Final sorted array: [11, 12, 22, 25, 64]\n"
     ]
    }
   ],
   "source": [
    "# Recursive Selection Sort\n",
    "# This calls itself for the remaining unsorted portion of the array\n",
    "\n",
    "def recursive_selection_sort(arr, start=0):\n",
    "    print(f\"\\nChecking the unsorted section of array: {arr[start:]}. Current minimum element: {arr[start]}\")\n",
    "    # Base case: If the start index is the last index of the array\n",
    "    if start >= len(arr) - 1:\n",
    "        return arr\n",
    "    \n",
    "    # Assume the current element (arr[start]) is the smallest in the unsorted portion\n",
    "    min_index = start\n",
    "\n",
    "    # Search the rest of the unsorted portion to find the actual smallest element\n",
    "    for i in range(start + 1, len(arr)):\n",
    "        if arr[i] < arr[min_index]:  \n",
    "            # If a smaller element is found, update the index of the smallest element\n",
    "            # Fpr descending order, change the comparison to arr[i] > arr[min_index]\n",
    "            min_index = i\n",
    "\n",
    "    # Swap the smallest found element with the current element (arr[start])\n",
    "    arr[start], arr[min_index] = arr[min_index], arr[start]\n",
    "\n",
    "    # Print the array state after each outer loop iteration\n",
    "    print(f\"After iteration {start+1}: {arr} where {arr[start]} is the smallest element\")\n",
    "\n",
    "    # Recursively call the function for the remaining unsorted portion of the array\n",
    "    recursive_selection_sort(arr, start + 1)\n",
    "\n",
    "    # Return the sorted array\n",
    "    return arr\n",
    "\n",
    "# Example usage:\n",
    "print(\"\\nRecursive Selection Sort\")\n",
    "arr = [64, 25, 12, 22, 11]\n",
    "print(\"Original array:\", arr)\n",
    "sorted_arr = recursive_selection_sort(arr)\n",
    "print(\"Final sorted array:\", sorted_arr)\n",
    "\n",
    "\n"
   ]
  },
  {
   "cell_type": "markdown",
   "metadata": {},
   "source": [
    "### Key Points:\n",
    "- **Selection Sort** is easy to understand but inefficient for large lists.\n",
    "- It has a time complexity of $O(n²)$, meaning the time taken grows significantly as the size of the list increases."
   ]
  },
  {
   "cell_type": "code",
   "execution_count": null,
   "metadata": {},
   "outputs": [],
   "source": []
  }
 ],
 "metadata": {
  "kernelspec": {
   "display_name": "Python 3",
   "language": "python",
   "name": "python3"
  },
  "language_info": {
   "codemirror_mode": {
    "name": "ipython",
    "version": 3
   },
   "file_extension": ".py",
   "mimetype": "text/x-python",
   "name": "python",
   "nbconvert_exporter": "python",
   "pygments_lexer": "ipython3",
   "version": "3.10.6"
  }
 },
 "nbformat": 4,
 "nbformat_minor": 2
}
